{
  "nbformat": 4,
  "nbformat_minor": 0,
  "metadata": {
    "colab": {
      "name": "Untitled0.ipynb",
      "provenance": [],
      "authorship_tag": "ABX9TyNRV6hNVhQWnyhEY0CrB2ht",
      "include_colab_link": true
    },
    "kernelspec": {
      "name": "python3",
      "display_name": "Python 3"
    },
    "language_info": {
      "name": "python"
    }
  },
  "cells": [
    {
      "cell_type": "markdown",
      "metadata": {
        "id": "view-in-github",
        "colab_type": "text"
      },
      "source": [
        "<a href=\"https://colab.research.google.com/github/NAGAVARUNBHOGADI/basicml/blob/main/python%20codes1.ipynb\" target=\"_parent\"><img src=\"https://colab.research.google.com/assets/colab-badge.svg\" alt=\"Open In Colab\"/></a>"
      ]
    },
    {
      "cell_type": "code",
      "metadata": {
        "id": "qe_6SNGI9BNo"
      },
      "source": [
        "samplepythoncode"
      ],
      "execution_count": null,
      "outputs": []
    },
    {
      "cell_type": "markdown",
      "metadata": {
        "id": "brSxNbKE9QQZ"
      },
      "source": [
        "factorial code"
      ]
    },
    {
      "cell_type": "code",
      "metadata": {
        "id": "AtsZysLY9XtI"
      },
      "source": [
        "def factorial(n):  \n",
        "   if n == 0 or n==1:  \n",
        "       return 1 \n",
        "   else:  \n",
        "       return n*factorial(n-1)\n",
        "n=int(input())\n",
        "print(factorial(n)))"
      ],
      "execution_count": null,
      "outputs": []
    },
    {
      "cell_type": "markdown",
      "metadata": {
        "id": "iaYT8mKiDduu"
      },
      "source": [
        "swap two variables in python"
      ]
    },
    {
      "cell_type": "code",
      "metadata": {
        "id": "aDxhfM6lDks-"
      },
      "source": [
        "x = 5\n",
        "y = 10\n",
        "\n",
        "x, y = y, x\n",
        "print(\"x =\", x)\n",
        "print(\"y =\", y)"
      ],
      "execution_count": null,
      "outputs": []
    },
    {
      "cell_type": "markdown",
      "metadata": {
        "id": "5vkyPEomEWMz"
      },
      "source": [
        "fibonacci nth term in python"
      ]
    },
    {
      "cell_type": "code",
      "metadata": {
        "id": "GW2LMnOQEiA1"
      },
      "source": [
        "def Fibonacci(n):\n",
        "    if n<0:\n",
        "        print(\"Incorrect input\")\n",
        "    elif n==1:\n",
        "        return 0\n",
        "    elif n==2:\n",
        "        return 1\n",
        "    else:\n",
        "        return Fibonacci(n-1)+Fibonacci(n-2)\n",
        "n=int(input())\n",
        "print(Fibonacci(n))"
      ],
      "execution_count": null,
      "outputs": []
    }
  ]
}